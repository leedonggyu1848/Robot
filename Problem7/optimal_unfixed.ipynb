{
 "cells": [
  {
   "cell_type": "code",
   "execution_count": 1,
   "metadata": {},
   "outputs": [],
   "source": [
    "import matplotlib.pyplot as plt\n",
    "\n",
    "INF = 2147483647\n",
    "NP = -1\n",
    "A = 0; B = 1; C = 2; D = 3; E = 4\n",
    "N = 5\n",
    "\n",
    "start = B\n",
    "goal = B\n",
    "step = 7\n",
    "\n",
    "# A, B, C, D, E distance\n",
    "dist = [\n",
    "\t[2, 2, INF, INF, INF],\n",
    "\t[INF, INF, INF, 4, INF],\n",
    "\t[1, INF, INF, 1, INF],\n",
    "\t[INF, INF, 1, INF, 1],\n",
    "\t[INF, INF, INF, INF, INF]\n",
    "]\n",
    "\n",
    "\n",
    "def cvt_state(state):\n",
    "\tif state == A:\n",
    "\t\treturn \"A\"\n",
    "\telif state == B:\n",
    "\t\treturn \"B\"\n",
    "\telif state == C:\n",
    "\t\treturn \"C\"\n",
    "\telif state == D:\n",
    "\t\treturn \"D\"\n",
    "\telif state == E:\n",
    "\t\treturn \"E\"\n",
    "\telif state == INF:\n",
    "\t\treturn \"fin\"\n",
    "\telse:\n",
    "\t\treturn \"-\""
   ]
  },
  {
   "cell_type": "code",
   "execution_count": 2,
   "metadata": {},
   "outputs": [
    {
     "name": "stdout",
     "output_type": "stream",
     "text": [
      "[2, 0, 3, 4, 2147483647]\n"
     ]
    }
   ],
   "source": [
    "# backward value iteration\n",
    "\n",
    "G = [INF for _ in range(N)]\n",
    "G[goal] = 0\n",
    "\n",
    "is_staionay = False\n",
    "while not is_staionay:\n",
    "\tis_staionay = True\n",
    "\tfor i in range(N):\n",
    "\t\tfor j in range(N):\n",
    "\t\t\tif dist[j][i] != INF and G[i] != INF:\n",
    "\t\t\t\tif G[j] > G[i] + dist[j][i]:\n",
    "\t\t\t\t\tG[j] = G[i] + dist[j][i]\n",
    "\t\t\t\t\tis_staionay = False\n",
    "\n",
    "print(G)"
   ]
  },
  {
   "cell_type": "code",
   "execution_count": 4,
   "metadata": {},
   "outputs": [
    {
     "name": "stdout",
     "output_type": "stream",
     "text": [
      "[6, 0, 5, 4, 5]\n"
     ]
    }
   ],
   "source": [
    "# forward value iteration\n",
    "\n",
    "G = [INF for _ in range(N)]\n",
    "G[start] = 0\n",
    "\n",
    "is_staionay = False\n",
    "while not is_staionay:\n",
    "\tis_staionay = True\n",
    "\tfor i in range(N):\n",
    "\t\tfor j in range(N):\n",
    "\t\t\tif dist[i][j] != INF and G[i] != INF:\n",
    "\t\t\t\tif G[j] > G[i] + dist[i][j]:\n",
    "\t\t\t\t\tG[j] = G[i] + dist[i][j]\n",
    "\t\t\t\t\tis_staionay = False\n",
    "print(G)"
   ]
  }
 ],
 "metadata": {
  "kernelspec": {
   "display_name": "Python 3",
   "language": "python",
   "name": "python3"
  },
  "language_info": {
   "codemirror_mode": {
    "name": "ipython",
    "version": 3
   },
   "file_extension": ".py",
   "mimetype": "text/x-python",
   "name": "python",
   "nbconvert_exporter": "python",
   "pygments_lexer": "ipython3",
   "version": "3.12.4"
  }
 },
 "nbformat": 4,
 "nbformat_minor": 2
}
