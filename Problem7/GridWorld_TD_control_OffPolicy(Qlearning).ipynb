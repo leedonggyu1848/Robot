{
  "cells": [
    {
      "cell_type": "code",
      "execution_count": 1,
      "metadata": {
        "id": "phSlhDj3R8JY"
      },
      "outputs": [],
      "source": [
        "import random\n",
        "import numpy as np\n",
        "import matplotlib.pyplot as plt"
      ]
    },
    {
      "cell_type": "code",
      "execution_count": 2,
      "metadata": {
        "id": "1805cmG5SWXl"
      },
      "outputs": [],
      "source": [
        "class GridWorld():\n",
        "  def __init__(self):\n",
        "    self.x=0\n",
        "    self.y=0\n",
        "\n",
        "  def step(self, a):\n",
        "    if a==0:\n",
        "      self.move_right()\n",
        "    elif a==1:\n",
        "      self.move_left()\n",
        "    elif a==2:\n",
        "      self.move_up()\n",
        "    elif a==3:\n",
        "      self.move_down()\n",
        "\n",
        "    reward = -1\n",
        "    done = self.is_done()\n",
        "    return (self.x, self.y), reward, done\n",
        "\n",
        "  def move_right(self):\n",
        "    self.y += 1\n",
        "    if self.y > 3:\n",
        "      self.y = 3\n",
        "\n",
        "  def move_left(self):\n",
        "    self.y -= 1       \n",
        "    if self.y < 0:\n",
        "      self.y = 0\n",
        "\n",
        "  def move_up(self):\n",
        "    self.x -= 1       \n",
        "    if self.x < 0:\n",
        "      self.x = 0    \n",
        "\n",
        "  def move_down(self):\n",
        "    self.x += 1       \n",
        "    if self.x >3:\n",
        "      self.x = 3   \n",
        "\n",
        "  def is_done(self):\n",
        "    if self.x == 3 and self.y==3:\n",
        "      return True\n",
        "    else:\n",
        "      return False\n",
        "\n",
        "  def get_state(self):\n",
        "    return (self.x, self.y)\n",
        "\n",
        "  def reset(self):\n",
        "    self.x = 0\n",
        "    self.y = 0\n",
        "    return (self.x, self.y)           \n"
      ]
    },
    {
      "cell_type": "code",
      "execution_count": 3,
      "metadata": {
        "id": "wJWd0XP9SWyA"
      },
      "outputs": [],
      "source": [
        "class AgentQlearning():\n",
        "  def __init__(self):\n",
        "    self.q_table = np.zeros((4,4,4)) # x size, y size, number of action\n",
        "    self.eps = 0.9\n",
        "    self.alpha = 0.1\n",
        "  \n",
        "  def select_action(self, s):\n",
        "    # epsilon-soft greedy policy\n",
        "    x, y = s\n",
        "    prob =  random.random()\n",
        "    if prob < self.eps: # perform random action with epsilon probabilty\n",
        "      action = random.randint(0,3)\n",
        "    else: # greedy\n",
        "      action_val = self.q_table[x,y,:]\n",
        "      action = np.argmax(action_val)\n",
        "    return action    \n",
        "\n",
        "  def update_table(self, transition):\n",
        "    # Now, input for the update is a sigle state transition\n",
        "    s,a,r,s_next = transition\n",
        "    x,y = s\n",
        "    x_next, y_next = s_next\n",
        "    a_next = self.select_action(s_next) # Select an action for s_next (Not actually taken one)\n",
        "    # Q-learning update\n",
        "    self.q_table[x,y,a] = (1-self.alpha)*self.q_table[x,y,a] + self.alpha*(r + np.max(self.q_table[x_next,y_next,:])) # Now, I think you are familiar with Robbins-Monro form\n",
        "    #self.q_table[x,y,a] = self.q_table[x,y,a] + self.alpha*(r + np.max(self.q_table[x_next,y_next,:]) - self.q_table[x,y,a])\n",
        "\n",
        "  def anneal_eps(self):\n",
        "    # annealing part: You may safely ignore this part :) (by Han)\n",
        "    self.eps -= 0.03\n",
        "    self.eps = max(self.eps, 0.1)\n",
        "\n",
        "  def show_table(self):\n",
        "    # Show me the one action of which results in the best Q(s,a) value\n",
        "    q_list = self.q_table.tolist()\n",
        "    best_qvalue = np.zeros((4,4))\n",
        "    best_action = np.zeros((4,4))\n",
        "    for row_idx in range(len(q_list)):\n",
        "      row = q_list[row_idx]\n",
        "      for col_idx in range(len(row)):\n",
        "        col = row[col_idx]\n",
        "        qvalue = np.max(col)\n",
        "        action = np.argmax(col)\n",
        "        best_qvalue[row_idx, col_idx] = qvalue\n",
        "        best_action[row_idx, col_idx] = action\n",
        "    return best_qvalue, best_action  \n",
        "\n",
        "    "
      ]
    },
    {
      "cell_type": "code",
      "execution_count": 4,
      "metadata": {
        "id": "iHSAokm_YIzo"
      },
      "outputs": [],
      "source": [
        "def main():\n",
        "  env = GridWorld()\n",
        "  agent = AgentQlearning()\n",
        "\n",
        "  for n_epi in range(1000):\n",
        "    done = False\n",
        "\n",
        "    s = env.reset()\n",
        "    while not done:\n",
        "      a = agent.select_action(s)\n",
        "      s_next, r, done = env.step(a)\n",
        "      agent.update_table((s,a,r,s_next))\n",
        "      s = s_next\n",
        "    agent.anneal_eps()\n",
        "\n",
        "  # Show me the result when it has done!  \n",
        "  opt_q, opt_policy = agent.show_table()\n",
        " \n",
        "   # Display the opt_q\n",
        "  fig, ax = plt.subplots()\n",
        "  plt.imshow(opt_policy, cmap='cool', interpolation='nearest')\n",
        "  for i in range(4):\n",
        "    for j in range(4):\n",
        "        tempstr = \"{:.4f}\".format(opt_q[i][j])\n",
        "        text = ax.text(j, i, tempstr, ha=\"center\", va=\"center\", color=\"k\")\n",
        "  plt.show()  \n",
        "\n",
        "  # Display the opt_policy\n",
        "  # 0:R, 1:L, 2:U, 3:D   \n",
        "  # 0:→, 1:←, 2:↑, 3:↓\n",
        "  fig, ax = plt.subplots()\n",
        "  plt.imshow(opt_policy, cmap='cool', interpolation='nearest')\n",
        "  for i in range(4):\n",
        "    for j in range(4):\n",
        "        if opt_policy[i][j] == 0:\n",
        "            tempstr = \"→\"\n",
        "        elif opt_policy[i][j] == 1:\n",
        "            tempstr = \"←\"\n",
        "        elif opt_policy[i][j] == 2:\n",
        "            tempstr = \"↑\"\n",
        "        else:\n",
        "            tempstr = \"↓\"\n",
        "        text = ax.text(j, i, tempstr, ha=\"center\", va=\"center\", color=\"k\")\n",
        "  plt.show()  \n",
        "  "
      ]
    },
    {
      "cell_type": "code",
      "execution_count": 5,
      "metadata": {
        "colab": {
          "base_uri": "https://localhost:8080/",
          "height": 521
        },
        "id": "-0Lxdo06Y0VL",
        "outputId": "bcaebb32-8ddb-464a-c370-afd189ec119b"
      },
      "outputs": [
        {
          "output_type": "display_data",
          "data": {
            "text/plain": [
              "<Figure size 432x288 with 1 Axes>"
            ],
            "image/png": "[encoded data removed]"
          },
          "metadata": {
            "needs_background": "light"
          }
        },
        {
          "output_type": "display_data",
          "data": {
            "text/plain": [
              "<Figure size 432x288 with 1 Axes>"
            ],
            "image/png": "[encoded data removed]"
          },
          "metadata": {
            "needs_background": "light"
          }
        }
      ],
      "source": [
        "main()"
      ]
    }
  ],
  "metadata": {
    "colab": {
      "collapsed_sections": [],
      "name": "GridWorld_TD_control_OffPolicy(Qlearning).ipynb",
      "provenance": []
    },
    "kernelspec": {
      "display_name": "Python 3",
      "name": "python3"
    },
    "language_info": {
      "name": "python"
    }
  },
  "nbformat": 4,
  "nbformat_minor": 0
}